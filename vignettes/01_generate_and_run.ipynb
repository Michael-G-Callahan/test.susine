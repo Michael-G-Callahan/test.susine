{
 "cells": [
  {
   "cell_type": "code",
   "execution_count": 8,
   "id": "83fe54cc",
   "metadata": {
    "vscode": {
     "languageId": "r"
    }
   },
   "outputs": [
    {
     "ename": "ERROR",
     "evalue": "\u001b[1m\u001b[33mError\u001b[39m in `value[[3L]]()`:\u001b[22m\n\u001b[1m\u001b[22m\u001b[33m!\u001b[39m Could not find a root 'DESCRIPTION' file that starts with '^Package'\n  in \u001b[34mC:\\Users\\mgcal\\OneDrive\\Documents\\School\\Research\\Genetics\\cTWAS\u001b[39m\n  \u001b[34mGeneralization\\Code\u001b[39m.\n\u001b[36mℹ\u001b[39m Are you in your project directory and does your project have a 'DESCRIPTION'\n  file?\n",
     "output_type": "error",
     "traceback": [
      "\u001b[1m\u001b[33mError\u001b[39m in `value[[3L]]()`:\u001b[22m\n\u001b[1m\u001b[22m\u001b[33m!\u001b[39m Could not find a root 'DESCRIPTION' file that starts with '^Package'\n  in \u001b[34mC:\\Users\\mgcal\\OneDrive\\Documents\\School\\Research\\Genetics\\cTWAS\u001b[39m\n  \u001b[34mGeneralization\\Code\u001b[39m.\n\u001b[36mℹ\u001b[39m Are you in your project directory and does your project have a 'DESCRIPTION'\n  file?\nTraceback:\n",
      "1. pkgload::load_all(path = path, reset = reset, recompile = recompile, \n .     export_all = export_all, helpers = helpers, quiet = quiet, \n .     ...)",
      "2. pkg_path(path)",
      "3. tryCatch({\n .     rprojroot_find_package_root_file(path = path)\n . }, error = function(e) {\n .     msg <- c(\"Could not find a root 'DESCRIPTION' file that starts with '^Package' in {.path {normalizePath(path)}}.\", \n .         i = \"Are you in your project directory and does your project have a 'DESCRIPTION' file?\")\n .     cli::cli_abort(msg, class = \"pkgload_no_desc\")\n . })",
      "4. tryCatchList(expr, classes, parentenv, handlers)",
      "5. tryCatchOne(expr, names, parentenv, handlers[[1L]])",
      "6. value[[3L]](cond)",
      "7. cli::cli_abort(msg, class = \"pkgload_no_desc\")",
      "8. rlang::abort(message, ..., call = call, use_cli_format = TRUE, \n .     .frame = .frame)",
      "9. signal_abort(cnd, .file)",
      "10. signalCondition(cnd)"
     ]
    }
   ],
   "source": [
    "library(devtools)\n",
    "\n",
    "#get the current file path without an RStudio API dependency\n",
    "current_path = \"C:/Users/mgcal/OneDrive/Documents/School/Research/Genetics/cTWAS Generalization/Code/test_susine\"\n",
    "setwd(current_path)\n",
    "\n",
    "load_all(\"..\") #load the test_susine package"
   ]
  },
  {
   "cell_type": "markdown",
   "id": "9b809172",
   "metadata": {},
   "source": [
    "### Generate batch controls"
   ]
  },
  {
   "cell_type": "code",
   "execution_count": null,
   "id": "b997c99c",
   "metadata": {
    "vscode": {
     "languageId": "r"
    }
   },
   "outputs": [],
   "source": [
    "experiment_name = \"SuSiE X, simulated annotations, and simulated phenotype\"\n",
    "\n",
    "L = c(1,3,5,10,20) #number of SuSiNE model effects\n",
    "y_noise = c(0.5, 0.75, 0.85, 0.90, 0.95) #proportion of variance not explained by genetic effects within locus\n",
    "p_star = c(1,5,10,20) #number of true causal effects\n",
    "annotation_noise = c(0, 0.2, 0.4, 0.6, 0.8, 1)\n",
    "n_seeds = 10\n",
    "\n",
    "batch_controls = expand.grid(experiment_name = experiment_name,\n",
    "                             L = L,\n",
    "                             y_noise = y_noise,\n",
    "                             p_star = p_star,\n",
    "                             seed = 1:n_seeds)\n",
    "\n",
    "#Add the annotation noise column as list (each row has multiple values)\n",
    "# make a list-column: same vector in every row\n",
    "batch_controls$annotation_noise <- rep(list(annotation_noise), nrow(batch_controls))\n",
    "\n",
    "head(batch_controls)\n",
    "\n",
    "#Create output directory if it doesn't exist\n",
    "dir.create(file.path(\"..\", \"output\", \"temp\"), recursive = TRUE, showWarnings = FALSE)\n",
    "\n",
    "#Save batch_controls to the output/temp folder for review\n",
    "save(batch_controls, file = file.path(\"..\", \"output\",\"temp\", sprintf(\"%s_batch_controls.RData\", gsub(\"[^A-Za-z0-9._-]+\",\"_\", experiment_name))))\n",
    "\n",
    "#Generate slurm batch file (shell script), save to the output/temp folder for review\n",
    "generate_batch_file(experiment_name, nrow(batch_controls))"
   ]
  },
  {
   "cell_type": "markdown",
   "id": "96426bfe",
   "metadata": {},
   "source": [
    "### Kick off the batch"
   ]
  },
  {
   "cell_type": "code",
   "execution_count": null,
   "id": "ca1f36b8",
   "metadata": {
    "vscode": {
     "languageId": "r"
    }
   },
   "outputs": [],
   "source": [
    "data(\"SuSiE_N3_X\") #This comes from the SuSiE pkg under 'data/'N3finemapping.rData'\n",
    "\n",
    "#Get n, p from X data\n",
    "X = as.matrix(SuSiE_N3_X)\n",
    "X = standardize_X(X)\n",
    "rm(SuSiE_N3_X)\n",
    "p = ncol(X)\n",
    "n =  nrow(X)"
   ]
  }
 ],
 "metadata": {
  "kernelspec": {
   "display_name": "R 4.3 (IRkernel)",
   "language": "R",
   "name": "ir-4.3"
  },
  "language_info": {
   "codemirror_mode": "r",
   "file_extension": ".r",
   "mimetype": "text/x-r-source",
   "name": "R",
   "pygments_lexer": "r",
   "version": "4.3.2"
  }
 },
 "nbformat": 4,
 "nbformat_minor": 5
}
